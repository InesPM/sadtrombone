{
 "cells": [
  {
   "cell_type": "markdown",
   "metadata": {},
   "source": [
    "# Burst Center Frequency\n",
    "\n",
    "Finds the center frequency of a burst by integrating over time and fitting a gaussian to the spectrum"
   ]
  },
  {
   "cell_type": "code",
   "execution_count": 1,
   "metadata": {},
   "outputs": [
    {
     "data": {
      "text/html": [
       "<div>\n",
       "<style scoped>\n",
       "    .dataframe tbody tr th:only-of-type {\n",
       "        vertical-align: middle;\n",
       "    }\n",
       "\n",
       "    .dataframe tbody tr th {\n",
       "        vertical-align: top;\n",
       "    }\n",
       "\n",
       "    .dataframe thead th {\n",
       "        text-align: right;\n",
       "    }\n",
       "</style>\n",
       "<table border=\"1\" class=\"dataframe\">\n",
       "  <thead>\n",
       "    <tr style=\"text-align: right;\">\n",
       "      <th></th>\n",
       "      <th>filename</th>\n",
       "      <th>edge</th>\n",
       "      <th>angle</th>\n",
       "      <th>peak</th>\n",
       "      <th>sigmax</th>\n",
       "      <th>sigmay</th>\n",
       "      <th>Slope</th>\n",
       "      <th>drift (mhz/ms)</th>\n",
       "      <th>drift error (mhz/ms)</th>\n",
       "    </tr>\n",
       "  </thead>\n",
       "  <tbody>\n",
       "    <tr>\n",
       "      <th>0</th>\n",
       "      <td>01_puppi_57747_C0531+33_0558_5.dm559.72.calibP...</td>\n",
       "      <td>1525</td>\n",
       "      <td>1.720000</td>\n",
       "      <td>10429.0</td>\n",
       "      <td>173.731526</td>\n",
       "      <td>47.364587</td>\n",
       "      <td>-6.652439</td>\n",
       "      <td>-1039.308995</td>\n",
       "      <td>0.617101</td>\n",
       "    </tr>\n",
       "    <tr>\n",
       "      <th>1</th>\n",
       "      <td>02_puppi_57747_C0531+33_0558_1183.dm559.72.cal...</td>\n",
       "      <td>1850</td>\n",
       "      <td>23.770000</td>\n",
       "      <td>5692.0</td>\n",
       "      <td>177.080918</td>\n",
       "      <td>44.911875</td>\n",
       "      <td>-4.736866</td>\n",
       "      <td>-739.419463</td>\n",
       "      <td>1.279131</td>\n",
       "    </tr>\n",
       "    <tr>\n",
       "      <th>2</th>\n",
       "      <td>03_puppi_57747_C0531+33_0558_1202.dm559.72.cal...</td>\n",
       "      <td>1975</td>\n",
       "      <td>-1.520000</td>\n",
       "      <td>5668.0</td>\n",
       "      <td>169.749001</td>\n",
       "      <td>19.463885</td>\n",
       "      <td>-19.669528</td>\n",
       "      <td>-2813.966383</td>\n",
       "      <td>5.239849</td>\n",
       "    </tr>\n",
       "    <tr>\n",
       "      <th>3</th>\n",
       "      <td>04_puppi_57747_C0531+33_0558_25437.dm559.72.ca...</td>\n",
       "      <td>1450</td>\n",
       "      <td>1.710000</td>\n",
       "      <td>5038.0</td>\n",
       "      <td>160.360329</td>\n",
       "      <td>26.706231</td>\n",
       "      <td>-7.137257</td>\n",
       "      <td>-1109.319273</td>\n",
       "      <td>40.321594</td>\n",
       "    </tr>\n",
       "    <tr>\n",
       "      <th>4</th>\n",
       "      <td>05_puppi_57747_C0531+33_0558_3683.dm559.72.cal...</td>\n",
       "      <td>1450</td>\n",
       "      <td>1.639204</td>\n",
       "      <td>5031.0</td>\n",
       "      <td>37.747383</td>\n",
       "      <td>166.280492</td>\n",
       "      <td>-14.595503</td>\n",
       "      <td>-2109.819670</td>\n",
       "      <td>124.715830</td>\n",
       "    </tr>\n",
       "    <tr>\n",
       "      <th>5</th>\n",
       "      <td>06_puppi_57747_C0531+33_0558_3687.dm559.72.cal...</td>\n",
       "      <td>1150</td>\n",
       "      <td>1.590000</td>\n",
       "      <td>5569.0</td>\n",
       "      <td>156.557708</td>\n",
       "      <td>12.416683</td>\n",
       "      <td>-52.066970</td>\n",
       "      <td>-6317.730503</td>\n",
       "      <td>30.736619</td>\n",
       "    </tr>\n",
       "    <tr>\n",
       "      <th>6</th>\n",
       "      <td>07_puppi_57747_C0531+33_0558_3688.dm559.72.cal...</td>\n",
       "      <td>1590</td>\n",
       "      <td>1.720000</td>\n",
       "      <td>5821.0</td>\n",
       "      <td>102.259272</td>\n",
       "      <td>38.969184</td>\n",
       "      <td>-6.652439</td>\n",
       "      <td>-1028.172298</td>\n",
       "      <td>2.175251</td>\n",
       "    </tr>\n",
       "    <tr>\n",
       "      <th>7</th>\n",
       "      <td>08_puppi_57747_C0531+33_0558_3689.dm559.72.cal...</td>\n",
       "      <td>2000</td>\n",
       "      <td>1.990000</td>\n",
       "      <td>5666.0</td>\n",
       "      <td>171.395398</td>\n",
       "      <td>64.792725</td>\n",
       "      <td>-2.244076</td>\n",
       "      <td>-340.010864</td>\n",
       "      <td>0.162096</td>\n",
       "    </tr>\n",
       "    <tr>\n",
       "      <th>8</th>\n",
       "      <td>09_puppi_57747_C0531+33_0558_3690.dm559.72.cal...</td>\n",
       "      <td>1600</td>\n",
       "      <td>2.240000</td>\n",
       "      <td>5041.0</td>\n",
       "      <td>133.024941</td>\n",
       "      <td>89.628038</td>\n",
       "      <td>-1.264288</td>\n",
       "      <td>-191.824534</td>\n",
       "      <td>9.704662</td>\n",
       "    </tr>\n",
       "    <tr>\n",
       "      <th>9</th>\n",
       "      <td>10_puppi_57747_C0531+33_0558_12568.dm559.72.ca...</td>\n",
       "      <td>800</td>\n",
       "      <td>-1.390000</td>\n",
       "      <td>5132.0</td>\n",
       "      <td>130.605616</td>\n",
       "      <td>47.074113</td>\n",
       "      <td>-5.470689</td>\n",
       "      <td>-846.471217</td>\n",
       "      <td>34.730967</td>\n",
       "    </tr>\n",
       "    <tr>\n",
       "      <th>10</th>\n",
       "      <td>11_puppi_57748_C0531+33_0594_2.dm559.72.calibP...</td>\n",
       "      <td>1800</td>\n",
       "      <td>1.720000</td>\n",
       "      <td>5196.0</td>\n",
       "      <td>182.570112</td>\n",
       "      <td>39.810758</td>\n",
       "      <td>-6.652439</td>\n",
       "      <td>-1028.948558</td>\n",
       "      <td>12.832905</td>\n",
       "    </tr>\n",
       "    <tr>\n",
       "      <th>11</th>\n",
       "      <td>12_puppi_57748_C0531+33_0594_48.dm559.72.calib...</td>\n",
       "      <td>1000</td>\n",
       "      <td>4.860000</td>\n",
       "      <td>4672.0</td>\n",
       "      <td>137.483220</td>\n",
       "      <td>28.822386</td>\n",
       "      <td>-6.725287</td>\n",
       "      <td>-1012.871320</td>\n",
       "      <td>2.193128</td>\n",
       "    </tr>\n",
       "    <tr>\n",
       "      <th>12</th>\n",
       "      <td>13_puppi_57748_C0531+33_0594_49.dm559.72.calib...</td>\n",
       "      <td>1900</td>\n",
       "      <td>1.740000</td>\n",
       "      <td>6789.0</td>\n",
       "      <td>141.354014</td>\n",
       "      <td>40.669821</td>\n",
       "      <td>-5.853528</td>\n",
       "      <td>-915.975701</td>\n",
       "      <td>0.710367</td>\n",
       "    </tr>\n",
       "    <tr>\n",
       "      <th>13</th>\n",
       "      <td>14_puppi_57748_C0531+33_0594_50.dm559.72.calib...</td>\n",
       "      <td>1550</td>\n",
       "      <td>4.760000</td>\n",
       "      <td>5313.0</td>\n",
       "      <td>159.613074</td>\n",
       "      <td>11.696348</td>\n",
       "      <td>-20.987668</td>\n",
       "      <td>-3424.532932</td>\n",
       "      <td>3.589301</td>\n",
       "    </tr>\n",
       "    <tr>\n",
       "      <th>14</th>\n",
       "      <td>15_puppi_57748_C0531+33_0594_1269.dm559.72.cal...</td>\n",
       "      <td>1550</td>\n",
       "      <td>2.000000</td>\n",
       "      <td>5922.0</td>\n",
       "      <td>65.081975</td>\n",
       "      <td>47.789210</td>\n",
       "      <td>-2.185040</td>\n",
       "      <td>-329.395555</td>\n",
       "      <td>0.926590</td>\n",
       "    </tr>\n",
       "    <tr>\n",
       "      <th>15</th>\n",
       "      <td>16_puppi_57772_C0531+33_0007_2695.dm559.72.cal...</td>\n",
       "      <td>700</td>\n",
       "      <td>1.710000</td>\n",
       "      <td>12309.0</td>\n",
       "      <td>124.668892</td>\n",
       "      <td>46.778198</td>\n",
       "      <td>-7.137257</td>\n",
       "      <td>-1129.833809</td>\n",
       "      <td>1.641886</td>\n",
       "    </tr>\n",
       "    <tr>\n",
       "      <th>16</th>\n",
       "      <td>gajjar/11A_16sec.calib.4p.RM.scr.ASCII</td>\n",
       "      <td>0</td>\n",
       "      <td>-1.525292</td>\n",
       "      <td>NaN</td>\n",
       "      <td>651.000000</td>\n",
       "      <td>9.000000</td>\n",
       "      <td>NaN</td>\n",
       "      <td>-785.400000</td>\n",
       "      <td>0.276000</td>\n",
       "    </tr>\n",
       "    <tr>\n",
       "      <th>17</th>\n",
       "      <td>gajjar/11D_323sec.calib.4p.RM.scr.ASCII</td>\n",
       "      <td>0</td>\n",
       "      <td>1.592000</td>\n",
       "      <td>NaN</td>\n",
       "      <td>9.000000</td>\n",
       "      <td>248.000000</td>\n",
       "      <td>NaN</td>\n",
       "      <td>-1673.440000</td>\n",
       "      <td>3.060000</td>\n",
       "    </tr>\n",
       "  </tbody>\n",
       "</table>\n",
       "</div>"
      ],
      "text/plain": [
       "                                             filename  edge      angle  \\\n",
       "0   01_puppi_57747_C0531+33_0558_5.dm559.72.calibP...  1525   1.720000   \n",
       "1   02_puppi_57747_C0531+33_0558_1183.dm559.72.cal...  1850  23.770000   \n",
       "2   03_puppi_57747_C0531+33_0558_1202.dm559.72.cal...  1975  -1.520000   \n",
       "3   04_puppi_57747_C0531+33_0558_25437.dm559.72.ca...  1450   1.710000   \n",
       "4   05_puppi_57747_C0531+33_0558_3683.dm559.72.cal...  1450   1.639204   \n",
       "5   06_puppi_57747_C0531+33_0558_3687.dm559.72.cal...  1150   1.590000   \n",
       "6   07_puppi_57747_C0531+33_0558_3688.dm559.72.cal...  1590   1.720000   \n",
       "7   08_puppi_57747_C0531+33_0558_3689.dm559.72.cal...  2000   1.990000   \n",
       "8   09_puppi_57747_C0531+33_0558_3690.dm559.72.cal...  1600   2.240000   \n",
       "9   10_puppi_57747_C0531+33_0558_12568.dm559.72.ca...   800  -1.390000   \n",
       "10  11_puppi_57748_C0531+33_0594_2.dm559.72.calibP...  1800   1.720000   \n",
       "11  12_puppi_57748_C0531+33_0594_48.dm559.72.calib...  1000   4.860000   \n",
       "12  13_puppi_57748_C0531+33_0594_49.dm559.72.calib...  1900   1.740000   \n",
       "13  14_puppi_57748_C0531+33_0594_50.dm559.72.calib...  1550   4.760000   \n",
       "14  15_puppi_57748_C0531+33_0594_1269.dm559.72.cal...  1550   2.000000   \n",
       "15  16_puppi_57772_C0531+33_0007_2695.dm559.72.cal...   700   1.710000   \n",
       "16             gajjar/11A_16sec.calib.4p.RM.scr.ASCII     0  -1.525292   \n",
       "17            gajjar/11D_323sec.calib.4p.RM.scr.ASCII     0   1.592000   \n",
       "\n",
       "       peak      sigmax      sigmay      Slope  drift (mhz/ms)  \\\n",
       "0   10429.0  173.731526   47.364587  -6.652439    -1039.308995   \n",
       "1    5692.0  177.080918   44.911875  -4.736866     -739.419463   \n",
       "2    5668.0  169.749001   19.463885 -19.669528    -2813.966383   \n",
       "3    5038.0  160.360329   26.706231  -7.137257    -1109.319273   \n",
       "4    5031.0   37.747383  166.280492 -14.595503    -2109.819670   \n",
       "5    5569.0  156.557708   12.416683 -52.066970    -6317.730503   \n",
       "6    5821.0  102.259272   38.969184  -6.652439    -1028.172298   \n",
       "7    5666.0  171.395398   64.792725  -2.244076     -340.010864   \n",
       "8    5041.0  133.024941   89.628038  -1.264288     -191.824534   \n",
       "9    5132.0  130.605616   47.074113  -5.470689     -846.471217   \n",
       "10   5196.0  182.570112   39.810758  -6.652439    -1028.948558   \n",
       "11   4672.0  137.483220   28.822386  -6.725287    -1012.871320   \n",
       "12   6789.0  141.354014   40.669821  -5.853528     -915.975701   \n",
       "13   5313.0  159.613074   11.696348 -20.987668    -3424.532932   \n",
       "14   5922.0   65.081975   47.789210  -2.185040     -329.395555   \n",
       "15  12309.0  124.668892   46.778198  -7.137257    -1129.833809   \n",
       "16      NaN  651.000000    9.000000        NaN     -785.400000   \n",
       "17      NaN    9.000000  248.000000        NaN    -1673.440000   \n",
       "\n",
       "    drift error (mhz/ms)  \n",
       "0               0.617101  \n",
       "1               1.279131  \n",
       "2               5.239849  \n",
       "3              40.321594  \n",
       "4             124.715830  \n",
       "5              30.736619  \n",
       "6               2.175251  \n",
       "7               0.162096  \n",
       "8               9.704662  \n",
       "9              34.730967  \n",
       "10             12.832905  \n",
       "11              2.193128  \n",
       "12              0.710367  \n",
       "13              3.589301  \n",
       "14              0.926590  \n",
       "15              1.641886  \n",
       "16              0.276000  \n",
       "17              3.060000  "
      ]
     },
     "execution_count": 1,
     "metadata": {},
     "output_type": "execute_result"
    }
   ],
   "source": [
    "from __future__ import division\n",
    "import math\n",
    "import os\n",
    "import sys\n",
    "import time\n",
    "import numpy as np\n",
    "import scipy.stats\n",
    "from scipy.optimize import curve_fit\n",
    "from math import log10\n",
    "import matplotlib.pyplot as plt\n",
    "import matplotlib.cm as cm\n",
    "from scipy import pi as nombrepi\n",
    "from scipy import signal, ndimage\n",
    "from tqdm import tqdm\n",
    "from matplotlib import colors as mcolors\n",
    "import functools\n",
    "print = functools.partial(print, flush=True) # print doesn't happen til script ends so force it to flush... windows thing?\n",
    "import pandas as pd\n",
    "\n",
    "bursts = pd.read_csv('bursts.csv')\n",
    "bursts"
   ]
  },
  {
   "cell_type": "code",
   "execution_count": 9,
   "metadata": {},
   "outputs": [
    {
     "data": {
      "text/html": [
       "<div>\n",
       "<style scoped>\n",
       "    .dataframe tbody tr th:only-of-type {\n",
       "        vertical-align: middle;\n",
       "    }\n",
       "\n",
       "    .dataframe tbody tr th {\n",
       "        vertical-align: top;\n",
       "    }\n",
       "\n",
       "    .dataframe thead th {\n",
       "        text-align: right;\n",
       "    }\n",
       "</style>\n",
       "<table border=\"1\" class=\"dataframe\">\n",
       "  <thead>\n",
       "    <tr style=\"text-align: right;\">\n",
       "      <th></th>\n",
       "      <th>filename</th>\n",
       "      <th>edge</th>\n",
       "      <th>angle</th>\n",
       "      <th>peak</th>\n",
       "      <th>sigmax</th>\n",
       "      <th>sigmay</th>\n",
       "      <th>Slope</th>\n",
       "      <th>drift (mhz/ms)</th>\n",
       "      <th>drift error (mhz/ms)</th>\n",
       "    </tr>\n",
       "  </thead>\n",
       "  <tbody>\n",
       "    <tr>\n",
       "      <th>0</th>\n",
       "      <td>01_puppi_57747_C0531+33_0558_5.dm559.72.calibP...</td>\n",
       "      <td>1525</td>\n",
       "      <td>1.720000</td>\n",
       "      <td>10429.0</td>\n",
       "      <td>173.731526</td>\n",
       "      <td>47.364587</td>\n",
       "      <td>-6.652439</td>\n",
       "      <td>-1039.308995</td>\n",
       "      <td>0.617101</td>\n",
       "    </tr>\n",
       "    <tr>\n",
       "      <th>1</th>\n",
       "      <td>02_puppi_57747_C0531+33_0558_1183.dm559.72.cal...</td>\n",
       "      <td>1850</td>\n",
       "      <td>23.770000</td>\n",
       "      <td>5692.0</td>\n",
       "      <td>177.080918</td>\n",
       "      <td>44.911875</td>\n",
       "      <td>-4.736866</td>\n",
       "      <td>-739.419463</td>\n",
       "      <td>1.279131</td>\n",
       "    </tr>\n",
       "    <tr>\n",
       "      <th>2</th>\n",
       "      <td>03_puppi_57747_C0531+33_0558_1202.dm559.72.cal...</td>\n",
       "      <td>1975</td>\n",
       "      <td>-1.520000</td>\n",
       "      <td>5668.0</td>\n",
       "      <td>169.749001</td>\n",
       "      <td>19.463885</td>\n",
       "      <td>-19.669528</td>\n",
       "      <td>-2813.966383</td>\n",
       "      <td>5.239849</td>\n",
       "    </tr>\n",
       "    <tr>\n",
       "      <th>3</th>\n",
       "      <td>04_puppi_57747_C0531+33_0558_25437.dm559.72.ca...</td>\n",
       "      <td>1450</td>\n",
       "      <td>1.710000</td>\n",
       "      <td>5038.0</td>\n",
       "      <td>160.360329</td>\n",
       "      <td>26.706231</td>\n",
       "      <td>-7.137257</td>\n",
       "      <td>-1109.319273</td>\n",
       "      <td>40.321594</td>\n",
       "    </tr>\n",
       "    <tr>\n",
       "      <th>4</th>\n",
       "      <td>05_puppi_57747_C0531+33_0558_3683.dm559.72.cal...</td>\n",
       "      <td>1450</td>\n",
       "      <td>1.639204</td>\n",
       "      <td>5031.0</td>\n",
       "      <td>37.747383</td>\n",
       "      <td>166.280492</td>\n",
       "      <td>-14.595503</td>\n",
       "      <td>-2109.819670</td>\n",
       "      <td>124.715830</td>\n",
       "    </tr>\n",
       "    <tr>\n",
       "      <th>5</th>\n",
       "      <td>06_puppi_57747_C0531+33_0558_3687.dm559.72.cal...</td>\n",
       "      <td>1150</td>\n",
       "      <td>1.590000</td>\n",
       "      <td>5569.0</td>\n",
       "      <td>156.557708</td>\n",
       "      <td>12.416683</td>\n",
       "      <td>-52.066970</td>\n",
       "      <td>-6317.730503</td>\n",
       "      <td>30.736619</td>\n",
       "    </tr>\n",
       "    <tr>\n",
       "      <th>6</th>\n",
       "      <td>07_puppi_57747_C0531+33_0558_3688.dm559.72.cal...</td>\n",
       "      <td>1590</td>\n",
       "      <td>1.720000</td>\n",
       "      <td>5821.0</td>\n",
       "      <td>102.259272</td>\n",
       "      <td>38.969184</td>\n",
       "      <td>-6.652439</td>\n",
       "      <td>-1028.172298</td>\n",
       "      <td>2.175251</td>\n",
       "    </tr>\n",
       "    <tr>\n",
       "      <th>7</th>\n",
       "      <td>08_puppi_57747_C0531+33_0558_3689.dm559.72.cal...</td>\n",
       "      <td>2000</td>\n",
       "      <td>1.990000</td>\n",
       "      <td>5666.0</td>\n",
       "      <td>171.395398</td>\n",
       "      <td>64.792725</td>\n",
       "      <td>-2.244076</td>\n",
       "      <td>-340.010864</td>\n",
       "      <td>0.162096</td>\n",
       "    </tr>\n",
       "    <tr>\n",
       "      <th>8</th>\n",
       "      <td>09_puppi_57747_C0531+33_0558_3690.dm559.72.cal...</td>\n",
       "      <td>1600</td>\n",
       "      <td>2.240000</td>\n",
       "      <td>5041.0</td>\n",
       "      <td>133.024941</td>\n",
       "      <td>89.628038</td>\n",
       "      <td>-1.264288</td>\n",
       "      <td>-191.824534</td>\n",
       "      <td>9.704662</td>\n",
       "    </tr>\n",
       "    <tr>\n",
       "      <th>9</th>\n",
       "      <td>10_puppi_57747_C0531+33_0558_12568.dm559.72.ca...</td>\n",
       "      <td>800</td>\n",
       "      <td>-1.390000</td>\n",
       "      <td>5132.0</td>\n",
       "      <td>130.605616</td>\n",
       "      <td>47.074113</td>\n",
       "      <td>-5.470689</td>\n",
       "      <td>-846.471217</td>\n",
       "      <td>34.730967</td>\n",
       "    </tr>\n",
       "    <tr>\n",
       "      <th>10</th>\n",
       "      <td>11_puppi_57748_C0531+33_0594_2.dm559.72.calibP...</td>\n",
       "      <td>1800</td>\n",
       "      <td>1.720000</td>\n",
       "      <td>5196.0</td>\n",
       "      <td>182.570112</td>\n",
       "      <td>39.810758</td>\n",
       "      <td>-6.652439</td>\n",
       "      <td>-1028.948558</td>\n",
       "      <td>12.832905</td>\n",
       "    </tr>\n",
       "    <tr>\n",
       "      <th>11</th>\n",
       "      <td>12_puppi_57748_C0531+33_0594_48.dm559.72.calib...</td>\n",
       "      <td>1000</td>\n",
       "      <td>4.860000</td>\n",
       "      <td>4672.0</td>\n",
       "      <td>137.483220</td>\n",
       "      <td>28.822386</td>\n",
       "      <td>-6.725287</td>\n",
       "      <td>-1012.871320</td>\n",
       "      <td>2.193128</td>\n",
       "    </tr>\n",
       "    <tr>\n",
       "      <th>12</th>\n",
       "      <td>13_puppi_57748_C0531+33_0594_49.dm559.72.calib...</td>\n",
       "      <td>1900</td>\n",
       "      <td>1.740000</td>\n",
       "      <td>6789.0</td>\n",
       "      <td>141.354014</td>\n",
       "      <td>40.669821</td>\n",
       "      <td>-5.853528</td>\n",
       "      <td>-915.975701</td>\n",
       "      <td>0.710367</td>\n",
       "    </tr>\n",
       "    <tr>\n",
       "      <th>13</th>\n",
       "      <td>14_puppi_57748_C0531+33_0594_50.dm559.72.calib...</td>\n",
       "      <td>1550</td>\n",
       "      <td>4.760000</td>\n",
       "      <td>5313.0</td>\n",
       "      <td>159.613074</td>\n",
       "      <td>11.696348</td>\n",
       "      <td>-20.987668</td>\n",
       "      <td>-3424.532932</td>\n",
       "      <td>3.589301</td>\n",
       "    </tr>\n",
       "    <tr>\n",
       "      <th>14</th>\n",
       "      <td>15_puppi_57748_C0531+33_0594_1269.dm559.72.cal...</td>\n",
       "      <td>1550</td>\n",
       "      <td>2.000000</td>\n",
       "      <td>5922.0</td>\n",
       "      <td>65.081975</td>\n",
       "      <td>47.789210</td>\n",
       "      <td>-2.185040</td>\n",
       "      <td>-329.395555</td>\n",
       "      <td>0.926590</td>\n",
       "    </tr>\n",
       "    <tr>\n",
       "      <th>15</th>\n",
       "      <td>16_puppi_57772_C0531+33_0007_2695.dm559.72.cal...</td>\n",
       "      <td>700</td>\n",
       "      <td>1.710000</td>\n",
       "      <td>12309.0</td>\n",
       "      <td>124.668892</td>\n",
       "      <td>46.778198</td>\n",
       "      <td>-7.137257</td>\n",
       "      <td>-1129.833809</td>\n",
       "      <td>1.641886</td>\n",
       "    </tr>\n",
       "  </tbody>\n",
       "</table>\n",
       "</div>"
      ],
      "text/plain": [
       "                                             filename  edge      angle  \\\n",
       "0   01_puppi_57747_C0531+33_0558_5.dm559.72.calibP...  1525   1.720000   \n",
       "1   02_puppi_57747_C0531+33_0558_1183.dm559.72.cal...  1850  23.770000   \n",
       "2   03_puppi_57747_C0531+33_0558_1202.dm559.72.cal...  1975  -1.520000   \n",
       "3   04_puppi_57747_C0531+33_0558_25437.dm559.72.ca...  1450   1.710000   \n",
       "4   05_puppi_57747_C0531+33_0558_3683.dm559.72.cal...  1450   1.639204   \n",
       "5   06_puppi_57747_C0531+33_0558_3687.dm559.72.cal...  1150   1.590000   \n",
       "6   07_puppi_57747_C0531+33_0558_3688.dm559.72.cal...  1590   1.720000   \n",
       "7   08_puppi_57747_C0531+33_0558_3689.dm559.72.cal...  2000   1.990000   \n",
       "8   09_puppi_57747_C0531+33_0558_3690.dm559.72.cal...  1600   2.240000   \n",
       "9   10_puppi_57747_C0531+33_0558_12568.dm559.72.ca...   800  -1.390000   \n",
       "10  11_puppi_57748_C0531+33_0594_2.dm559.72.calibP...  1800   1.720000   \n",
       "11  12_puppi_57748_C0531+33_0594_48.dm559.72.calib...  1000   4.860000   \n",
       "12  13_puppi_57748_C0531+33_0594_49.dm559.72.calib...  1900   1.740000   \n",
       "13  14_puppi_57748_C0531+33_0594_50.dm559.72.calib...  1550   4.760000   \n",
       "14  15_puppi_57748_C0531+33_0594_1269.dm559.72.cal...  1550   2.000000   \n",
       "15  16_puppi_57772_C0531+33_0007_2695.dm559.72.cal...   700   1.710000   \n",
       "\n",
       "       peak      sigmax      sigmay      Slope  drift (mhz/ms)  \\\n",
       "0   10429.0  173.731526   47.364587  -6.652439    -1039.308995   \n",
       "1    5692.0  177.080918   44.911875  -4.736866     -739.419463   \n",
       "2    5668.0  169.749001   19.463885 -19.669528    -2813.966383   \n",
       "3    5038.0  160.360329   26.706231  -7.137257    -1109.319273   \n",
       "4    5031.0   37.747383  166.280492 -14.595503    -2109.819670   \n",
       "5    5569.0  156.557708   12.416683 -52.066970    -6317.730503   \n",
       "6    5821.0  102.259272   38.969184  -6.652439    -1028.172298   \n",
       "7    5666.0  171.395398   64.792725  -2.244076     -340.010864   \n",
       "8    5041.0  133.024941   89.628038  -1.264288     -191.824534   \n",
       "9    5132.0  130.605616   47.074113  -5.470689     -846.471217   \n",
       "10   5196.0  182.570112   39.810758  -6.652439    -1028.948558   \n",
       "11   4672.0  137.483220   28.822386  -6.725287    -1012.871320   \n",
       "12   6789.0  141.354014   40.669821  -5.853528     -915.975701   \n",
       "13   5313.0  159.613074   11.696348 -20.987668    -3424.532932   \n",
       "14   5922.0   65.081975   47.789210  -2.185040     -329.395555   \n",
       "15  12309.0  124.668892   46.778198  -7.137257    -1129.833809   \n",
       "\n",
       "    drift error (mhz/ms)  \n",
       "0               0.617101  \n",
       "1               1.279131  \n",
       "2               5.239849  \n",
       "3              40.321594  \n",
       "4             124.715830  \n",
       "5              30.736619  \n",
       "6               2.175251  \n",
       "7               0.162096  \n",
       "8               9.704662  \n",
       "9              34.730967  \n",
       "10             12.832905  \n",
       "11              2.193128  \n",
       "12              0.710367  \n",
       "13              3.589301  \n",
       "14              0.926590  \n",
       "15              1.641886  "
      ]
     },
     "execution_count": 9,
     "metadata": {},
     "output_type": "execute_result"
    }
   ],
   "source": [
    "bursts.head(16)"
   ]
  },
  {
   "cell_type": "code",
   "execution_count": 12,
   "metadata": {},
   "outputs": [
    {
     "name": "stdout",
     "output_type": "stream",
     "text": [
      "Burst #1\n",
      "Data loaded\n"
     ]
    },
    {
     "name": "stderr",
     "output_type": "stream",
     "text": [
      "noise removal: 100%|██████████| 411/411 [00:04<00:00, 94.04it/s]"
     ]
    },
    {
     "name": "stdout",
     "output_type": "stream",
     "text": [
      "Burst #2\n"
     ]
    },
    {
     "name": "stderr",
     "output_type": "stream",
     "text": [
      "\n"
     ]
    },
    {
     "name": "stdout",
     "output_type": "stream",
     "text": [
      "Data loaded\n"
     ]
    },
    {
     "name": "stderr",
     "output_type": "stream",
     "text": [
      "noise removal: 100%|██████████| 411/411 [00:04<00:00, 92.89it/s]"
     ]
    },
    {
     "name": "stdout",
     "output_type": "stream",
     "text": [
      "Burst #3\n"
     ]
    },
    {
     "name": "stderr",
     "output_type": "stream",
     "text": [
      "\n"
     ]
    },
    {
     "name": "stdout",
     "output_type": "stream",
     "text": [
      "Data loaded\n"
     ]
    },
    {
     "name": "stderr",
     "output_type": "stream",
     "text": [
      "noise removal: 100%|██████████| 411/411 [00:04<00:00, 95.99it/s]"
     ]
    },
    {
     "name": "stdout",
     "output_type": "stream",
     "text": [
      "Burst #4\n"
     ]
    },
    {
     "name": "stderr",
     "output_type": "stream",
     "text": [
      "\n"
     ]
    },
    {
     "name": "stdout",
     "output_type": "stream",
     "text": [
      "Data loaded\n"
     ]
    },
    {
     "name": "stderr",
     "output_type": "stream",
     "text": [
      "noise removal: 100%|██████████| 411/411 [00:04<00:00, 95.58it/s]"
     ]
    },
    {
     "name": "stdout",
     "output_type": "stream",
     "text": [
      "Burst #5\n"
     ]
    },
    {
     "name": "stderr",
     "output_type": "stream",
     "text": [
      "\n"
     ]
    },
    {
     "name": "stdout",
     "output_type": "stream",
     "text": [
      "Data loaded\n"
     ]
    },
    {
     "name": "stderr",
     "output_type": "stream",
     "text": [
      "noise removal: 100%|██████████| 411/411 [00:04<00:00, 94.51it/s]"
     ]
    },
    {
     "name": "stdout",
     "output_type": "stream",
     "text": [
      "Burst #6\n"
     ]
    },
    {
     "name": "stderr",
     "output_type": "stream",
     "text": [
      "\n"
     ]
    },
    {
     "name": "stdout",
     "output_type": "stream",
     "text": [
      "Data loaded\n"
     ]
    },
    {
     "name": "stderr",
     "output_type": "stream",
     "text": [
      "noise removal: 100%|██████████| 411/411 [00:04<00:00, 93.69it/s]"
     ]
    },
    {
     "name": "stdout",
     "output_type": "stream",
     "text": [
      "Burst #7\n"
     ]
    },
    {
     "name": "stderr",
     "output_type": "stream",
     "text": [
      "\n"
     ]
    },
    {
     "name": "stdout",
     "output_type": "stream",
     "text": [
      "Data loaded\n"
     ]
    },
    {
     "name": "stderr",
     "output_type": "stream",
     "text": [
      "noise removal: 100%|██████████| 411/411 [00:04<00:00, 95.17it/s]"
     ]
    },
    {
     "name": "stdout",
     "output_type": "stream",
     "text": [
      "Burst #8\n"
     ]
    },
    {
     "name": "stderr",
     "output_type": "stream",
     "text": [
      "\n"
     ]
    },
    {
     "name": "stdout",
     "output_type": "stream",
     "text": [
      "Data loaded\n"
     ]
    },
    {
     "name": "stderr",
     "output_type": "stream",
     "text": [
      "noise removal: 100%|██████████| 411/411 [00:04<00:00, 96.03it/s]"
     ]
    },
    {
     "name": "stdout",
     "output_type": "stream",
     "text": [
      "Burst #9\n"
     ]
    },
    {
     "name": "stderr",
     "output_type": "stream",
     "text": [
      "\n"
     ]
    },
    {
     "name": "stdout",
     "output_type": "stream",
     "text": [
      "Data loaded\n"
     ]
    },
    {
     "name": "stderr",
     "output_type": "stream",
     "text": [
      "noise removal: 100%|██████████| 411/411 [00:04<00:00, 93.48it/s]"
     ]
    },
    {
     "name": "stdout",
     "output_type": "stream",
     "text": [
      "Burst #10\n"
     ]
    },
    {
     "name": "stderr",
     "output_type": "stream",
     "text": [
      "\n"
     ]
    },
    {
     "name": "stdout",
     "output_type": "stream",
     "text": [
      "Data loaded\n"
     ]
    },
    {
     "name": "stderr",
     "output_type": "stream",
     "text": [
      "noise removal: 100%|██████████| 411/411 [00:04<00:00, 95.91it/s]"
     ]
    },
    {
     "name": "stdout",
     "output_type": "stream",
     "text": [
      "Burst #11\n"
     ]
    },
    {
     "name": "stderr",
     "output_type": "stream",
     "text": [
      "\n"
     ]
    },
    {
     "name": "stdout",
     "output_type": "stream",
     "text": [
      "Data loaded\n"
     ]
    },
    {
     "name": "stderr",
     "output_type": "stream",
     "text": [
      "noise removal: 100%|██████████| 411/411 [00:04<00:00, 92.35it/s]"
     ]
    },
    {
     "name": "stdout",
     "output_type": "stream",
     "text": [
      "Burst #12\n"
     ]
    },
    {
     "name": "stderr",
     "output_type": "stream",
     "text": [
      "\n"
     ]
    },
    {
     "name": "stdout",
     "output_type": "stream",
     "text": [
      "Data loaded\n"
     ]
    },
    {
     "name": "stderr",
     "output_type": "stream",
     "text": [
      "noise removal: 100%|██████████| 411/411 [00:04<00:00, 94.68it/s]"
     ]
    },
    {
     "name": "stdout",
     "output_type": "stream",
     "text": [
      "Burst #13\n"
     ]
    },
    {
     "name": "stderr",
     "output_type": "stream",
     "text": [
      "\n"
     ]
    },
    {
     "name": "stdout",
     "output_type": "stream",
     "text": [
      "Data loaded\n"
     ]
    },
    {
     "name": "stderr",
     "output_type": "stream",
     "text": [
      "noise removal: 100%|██████████| 411/411 [00:04<00:00, 94.93it/s]"
     ]
    },
    {
     "name": "stdout",
     "output_type": "stream",
     "text": [
      "Burst #14\n"
     ]
    },
    {
     "name": "stderr",
     "output_type": "stream",
     "text": [
      "\n"
     ]
    },
    {
     "name": "stdout",
     "output_type": "stream",
     "text": [
      "Data loaded\n"
     ]
    },
    {
     "name": "stderr",
     "output_type": "stream",
     "text": [
      "noise removal: 100%|██████████| 411/411 [00:04<00:00, 93.88it/s]"
     ]
    },
    {
     "name": "stdout",
     "output_type": "stream",
     "text": [
      "Burst #15\n"
     ]
    },
    {
     "name": "stderr",
     "output_type": "stream",
     "text": [
      "\n"
     ]
    },
    {
     "name": "stdout",
     "output_type": "stream",
     "text": [
      "Data loaded\n"
     ]
    },
    {
     "name": "stderr",
     "output_type": "stream",
     "text": [
      "noise removal: 100%|██████████| 411/411 [00:04<00:00, 93.79it/s]"
     ]
    },
    {
     "name": "stdout",
     "output_type": "stream",
     "text": [
      "Burst #16\n"
     ]
    },
    {
     "name": "stderr",
     "output_type": "stream",
     "text": [
      "\n"
     ]
    },
    {
     "name": "stdout",
     "output_type": "stream",
     "text": [
      "Data loaded\n"
     ]
    },
    {
     "name": "stderr",
     "output_type": "stream",
     "text": [
      "noise removal: 100%|██████████| 411/411 [00:04<00:00, 93.81it/s]\n"
     ]
    },
    {
     "data": {
      "text/plain": [
       "<matplotlib.axes._subplots.AxesSubplot at 0x135ff850>"
      ]
     },
     "execution_count": 12,
     "metadata": {},
     "output_type": "execute_result"
    },
    {
     "data": {
      "image/png": "[encoded data removed]",
      "text/plain": [
       "<Figure size 432x288 with 1 Axes>"
      ]
     },
     "metadata": {
      "needs_background": "light"
     },
     "output_type": "display_data"
    }
   ],
   "source": [
    "def findcenter(burst):\n",
    "    burstnum = burst[0][:2].strip('0') if burst[0][:2][0] == '0' else burst[0][:2]\n",
    "    print('Burst #{}'.format(burstnum))\n",
    "\n",
    "    folder = 'data'\n",
    "    filename = burst.filename\n",
    "    edge = burst.edge\n",
    "\n",
    "    junk, nchan, nbin, I, Q, U, V = np.loadtxt('{}/{}'.format(folder, filename), delimiter=' ', unpack=True)\n",
    "    Q, U, V = None, None, None\n",
    "    n = len(junk)\n",
    "    print(\"Data loaded\")\n",
    "\n",
    "    binmax = int(nbin[n-1])+1\n",
    "    frequencymax = (int(nchan[n-1])+1)\n",
    "    intensity = np.zeros((frequencymax, binmax))\n",
    "\n",
    "    X = np.zeros(binmax)\n",
    "    Y = np.zeros(frequencymax)\n",
    "\n",
    "    # what are these?\n",
    "    tmin = 500 \n",
    "    tmax = 1500\n",
    "\n",
    "    #### 1. remove noise\n",
    "    intensitynoise1 = np.zeros(tmin-1)\n",
    "    intensitynoise2 = np.zeros(binmax-tmax)\n",
    "    for i in tqdm(range(frequencymax-50,51,-1), desc='noise removal', disable=False):\n",
    "\n",
    "        Y[i-1] = 4.15 + (i-1) * 1.5625 # ?\n",
    "\n",
    "        for j in range(1,tmin) :\n",
    "\n",
    "            intensitynoise1[j-1] = (I[j-1 + binmax*(frequencymax-i)])/(tmin-1)\n",
    "\n",
    "\n",
    "        for j in range(tmax+1,binmax+1) :\n",
    "\n",
    "            intensitynoise2[j-1-tmax] = (I[j-1 + binmax*(frequencymax-i)])/(binmax-tmax)\n",
    "\n",
    "        a = sum(intensitynoise1)\n",
    "        b = sum(intensitynoise2)\n",
    "\n",
    "        for j in range(1,binmax+1) :\n",
    "            X[j-1] = j-1\n",
    "            intensity[i-1,j-1] = I[j-1 + binmax*(frequencymax-i)] - (a+b)/2\n",
    "\n",
    "    burstwindow = intensity[:,edge:edge+frequencymax]\n",
    "    plt.title('Burst #{}'.format(burstnum))\n",
    "    freqspectrum = pd.DataFrame(burstwindow[:,:].sum(axis=1)[:, None])\n",
    "    data = freqspectrum[50:463][0]\n",
    "    x = data.keys()\n",
    "    xo = sum(x*data)/sum(data)\n",
    "    return xo # return the central frequency \n",
    "\n",
    "bursts['center'] = bursts.head(16).apply(findcenter, axis=1)\n"
   ]
  },
  {
   "cell_type": "code",
   "execution_count": 13,
   "metadata": {},
   "outputs": [
    {
     "data": {
      "text/plain": [
       "0     228.755888\n",
       "1     209.060564\n",
       "2     249.051665\n",
       "3     322.029396\n",
       "4     214.396765\n",
       "5     263.938012\n",
       "6     160.167242\n",
       "7     296.067560\n",
       "8     216.215087\n",
       "9     310.581676\n",
       "10    263.108513\n",
       "11    194.684720\n",
       "12    315.871984\n",
       "13    239.876953\n",
       "14    113.702082\n",
       "15    167.929660\n",
       "16           NaN\n",
       "17           NaN\n",
       "Name: center, dtype: float64"
      ]
     },
     "execution_count": 13,
     "metadata": {},
     "output_type": "execute_result"
    }
   ],
   "source": [
    "bursts['center']"
   ]
  }
 ],
 "metadata": {
  "kernelspec": {
   "display_name": "Python 3",
   "language": "python",
   "name": "python3"
  },
  "language_info": {
   "codemirror_mode": {
    "name": "ipython",
    "version": 3
   },
   "file_extension": ".py",
   "mimetype": "text/x-python",
   "name": "python",
   "nbconvert_exporter": "python",
   "pygments_lexer": "ipython3",
   "version": "3.7.4"
  },
  "widgets": {
   "application/vnd.jupyter.widget-state+json": {
    "state": {},
    "version_major": 2,
    "version_minor": 0
   }
  }
 },
 "nbformat": 4,
 "nbformat_minor": 4
}
