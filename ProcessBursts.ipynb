{
 "cells": [
  {
   "cell_type": "markdown",
   "metadata": {},
   "source": [
    "# Process Bursts\n",
    "\n",
    "This notebook computes the burst drift for all bursts using the method show in `BurstDrift.ipynb`"
   ]
  },
  {
   "cell_type": "code",
   "execution_count": 1,
   "metadata": {},
   "outputs": [],
   "source": [
    "#!/usr/bin/python3\n",
    "\n",
    "from __future__ import division\n",
    "import math\n",
    "import os\n",
    "import sys\n",
    "import time\n",
    "import numpy as np\n",
    "import scipy.stats\n",
    "from scipy.optimize import curve_fit\n",
    "from math import log10\n",
    "import matplotlib.pyplot as plt\n",
    "import matplotlib.cm as cm\n",
    "from scipy import pi as nombrepi\n",
    "from scipy import signal, ndimage\n",
    "from tqdm import tqdm\n",
    "from matplotlib import colors as mcolors\n",
    "import functools\n",
    "print = functools.partial(print, flush=True) # print doesn't happen til script ends so force it to flush... windows thing?\n",
    "import pandas as pd\n",
    "\n",
    "bursts = pd.read_csv('bursts.csv')\n",
    "\n",
    "# Gaussian 2d Fit Stuff\n",
    "# Source: https://gist.github.com/andrewgiessel/6122739\n",
    "# Source: https://stackoverflow.com/questions/21566379/fitting-a-2d-gaussian-function-using-scipy-optimize-curve-fit-valueerror-and-m\n",
    "def gaussian(height, center_x, center_y, width_x, width_y, rotation):\n",
    "    \"\"\"Returns a gaussian function with the given parameters\"\"\"\n",
    "    width_x = float(width_x)\n",
    "    width_y = float(width_y)\n",
    "\n",
    "    rotation = np.deg2rad(rotation)\n",
    "    center_x_old = center_x\n",
    "    center_x = center_x * np.cos(rotation) - center_y * np.sin(rotation)\n",
    "    center_y = center_x_old * np.sin(rotation) + center_y * np.cos(rotation)\n",
    "\n",
    "    def rotgauss(x,y):\n",
    "        xp = x * np.cos(rotation) - y * np.sin(rotation)\n",
    "        yp = x * np.sin(rotation) + y * np.cos(rotation)\n",
    "        g = height*np.exp( -(((center_x-xp)/width_x)**2  +((center_y-yp)/width_y)**2)/2.  )\n",
    "        return g\n",
    "    return rotgauss\n",
    "\n",
    "def moments(data):\n",
    "    \"\"\"Returns (height, x, y, width_x, width_y)\n",
    "    the gaussian parameters of a 2D distribution by calculating its\n",
    "    moments \"\"\"\n",
    "    total = data.sum()\n",
    "    X, Y = np.indices(data.shape)\n",
    "    x = (X*data).sum()/total\n",
    "    y = (Y*data).sum()/total\n",
    "    col = data[:, int(y)]\n",
    "    width_x = np.sqrt(abs((np.arange(col.size)-y)**2*col).sum()/col.sum())\n",
    "    row = data[int(x), :]\n",
    "    width_y = np.sqrt(abs((np.arange(row.size)-x)**2*row).sum()/row.sum())\n",
    "    height = data.max()\n",
    "    return height, x, y, width_x, width_y, 2.0\n",
    "\n",
    "def twoD_Gaussian(point, amplitude, xo, yo, sigma_x, sigma_y, theta):\n",
    "    x, y = point\n",
    "    xo = float(xo)\n",
    "    yo = float(yo)    \n",
    "    a = (np.cos(theta)**2)/(2*sigma_x**2) + (np.sin(theta)**2)/(2*sigma_y**2)\n",
    "    b = -(np.sin(2*theta))/(4*sigma_x**2) + (np.sin(2*theta))/(4*sigma_y**2)\n",
    "    c = (np.sin(theta)**2)/(2*sigma_x**2) + (np.cos(theta)**2)/(2*sigma_y**2)\n",
    "    g = amplitude*np.exp( - (a*((x-xo)**2) + 2*b*(x-xo)*(y-yo) + c*((y-yo)**2)))\n",
    "    return g.ravel()\n",
    "\n",
    "def fitgaussian(data):\n",
    "    \"\"\"Returns (height, x, y, width_x, width_y)\n",
    "    the gaussian parameters of a 2D distribution found by a fit\"\"\"\n",
    "    params = moments(data)\n",
    "    errorfunction = lambda p: np.ravel(gaussian(*p)(*np.indices(data.shape)) - data)\n",
    "    p, success = scipy.optimize.leastsq(errorfunction, params)\n",
    "    return p, success\n",
    "\n",
    "def fitgaussiannlsq(data):\n",
    "    # use curve-fit (non-linear leastsq)\n",
    "    x = range(0, 1023); y = range(0, 1023)\n",
    "    x, y = np.meshgrid(x, y)\n",
    "    params = moments(data)#+ (0.,)\n",
    "    popt, pcov = scipy.optimize.curve_fit(twoD_Gaussian, (x, y), corr.ravel(), p0=params)\n",
    "    return popt, pcov"
   ]
  },
  {
   "cell_type": "code",
   "execution_count": null,
   "metadata": {},
   "outputs": [
    {
     "name": "stderr",
     "output_type": "stream",
     "text": [
      "  0%|          | 0/16 [00:00<?, ?it/s]"
     ]
    },
    {
     "name": "stdout",
     "output_type": "stream",
     "text": [
      "processing 01_puppi_57747_C0531+33_0558_5.dm559.72.calibP.RM.DD.ASCII\n",
      "Data loaded\n",
      "finding auto-correlation...\n",
      "solution nlsq: [1.82917813e+03 5.11000000e+02 5.11000000e+02 1.73731605e+02\n",
      " 4.73645854e+01 1.42502111e+00]\n",
      "saved figures/burst_1_figure.png\n"
     ]
    },
    {
     "name": "stderr",
     "output_type": "stream",
     "text": [
      "  6%|▋         | 1/16 [10:29<2:37:18, 629.26s/it]"
     ]
    },
    {
     "name": "stdout",
     "output_type": "stream",
     "text": [
      "processing 02_puppi_57747_C0531+33_0558_1183.dm559.72.calibP.RM.DD.ASCII\n",
      "Data loaded\n",
      "finding auto-correlation...\n",
      "solution nlsq: [ 82.16337763 511.         511.00000002  44.91191284 177.08093713\n",
      "  31.21242132]\n",
      "saved figures/burst_2_figure.png\n"
     ]
    },
    {
     "name": "stderr",
     "output_type": "stream",
     "text": [
      " 12%|█▎        | 2/16 [21:13<2:27:52, 633.72s/it]"
     ]
    },
    {
     "name": "stdout",
     "output_type": "stream",
     "text": [
      "processing 03_puppi_57747_C0531+33_0558_1202.dm559.72.calibP.RM.DD.ASCII\n",
      "Data loaded\n",
      "finding auto-correlation...\n",
      "solution nlsq: [186.77825752 511.         510.99999992 169.74900375  19.46393046\n",
      "  -1.62496854]\n",
      "saved figures/burst_3_figure.png\n"
     ]
    },
    {
     "name": "stderr",
     "output_type": "stream",
     "text": [
      " 19%|█▉        | 3/16 [32:09<2:18:47, 640.55s/it]"
     ]
    },
    {
     "name": "stdout",
     "output_type": "stream",
     "text": [
      "processing 04_puppi_57747_C0531+33_0558_25437.dm559.72.calibP.RM.DD.ASCII\n",
      "Data loaded\n",
      "finding auto-correlation...\n",
      "solution nlsq: [  4.1998491  510.9999952  511.00001467 160.33964723 -26.70473435\n",
      "   1.43413459]\n",
      "saved figures/burst_4_figure.png\n"
     ]
    },
    {
     "name": "stderr",
     "output_type": "stream",
     "text": [
      " 25%|██▌       | 4/16 [43:02<2:08:50, 644.21s/it]"
     ]
    },
    {
     "name": "stdout",
     "output_type": "stream",
     "text": [
      "processing 05_puppi_57747_C0531+33_0558_3683.dm559.72.calibP.RM.DD.ASCII\n",
      "Data loaded\n",
      "finding auto-correlation...\n",
      "solution nlsq: [  5.56760064 510.99999733 511.00000361 166.27984713  37.74696482\n",
      "   1.49859196]\n",
      "saved figures/burst_5_figure.png\n"
     ]
    },
    {
     "name": "stderr",
     "output_type": "stream",
     "text": [
      " 31%|███▏      | 5/16 [54:06<1:59:10, 650.05s/it]"
     ]
    },
    {
     "name": "stdout",
     "output_type": "stream",
     "text": [
      "processing 06_puppi_57747_C0531+33_0558_3687.dm559.72.calibP.RM.DD.ASCII\n",
      "Data loaded\n",
      "finding auto-correlation...\n",
      "solution nlsq: [158.92707157 511.         511.00000005  12.41787367 156.5584095\n",
      "   3.11744162]\n",
      "saved figures/burst_6_figure.png\n"
     ]
    },
    {
     "name": "stderr",
     "output_type": "stream",
     "text": [
      " 38%|███▊      | 6/16 [1:05:01<1:48:35, 651.57s/it]"
     ]
    },
    {
     "name": "stdout",
     "output_type": "stream",
     "text": [
      "processing 07_puppi_57747_C0531+33_0558_3688.dm559.72.calibP.RM.DD.ASCII\n",
      "Data loaded\n",
      "finding auto-correlation...\n",
      "solution nlsq: [274.08715412 511.         511.         102.25972162  38.96928783\n",
      "  -1.71812891]\n",
      "saved figures/burst_7_figure.png\n"
     ]
    },
    {
     "name": "stderr",
     "output_type": "stream",
     "text": [
      " 44%|████▍     | 7/16 [1:15:45<1:37:24, 649.41s/it]"
     ]
    },
    {
     "name": "stdout",
     "output_type": "stream",
     "text": [
      "processing 08_puppi_57747_C0531+33_0558_3689.dm559.72.calibP.RM.DD.ASCII\n",
      "Data loaded\n",
      "finding auto-correlation...\n",
      "solution nlsq: [ 2.47440190e+02  5.11000000e+02  5.11000000e+02  6.47926084e+01\n",
      "  1.71395476e+02 -4.21833637e-01]\n",
      "saved figures/burst_8_figure.png\n"
     ]
    },
    {
     "name": "stderr",
     "output_type": "stream",
     "text": [
      " 50%|█████     | 8/16 [1:26:44<1:26:56, 652.08s/it]"
     ]
    },
    {
     "name": "stdout",
     "output_type": "stream",
     "text": [
      "processing 09_puppi_57747_C0531+33_0558_3690.dm559.72.calibP.RM.DD.ASCII\n",
      "Data loaded\n",
      "finding auto-correlation...\n",
      "solution nlsq: [  3.60180256 511.00000025 511.00000019 133.02721953 -89.62628032\n",
      "   0.89887526]\n",
      "saved figures/burst_9_figure.png\n"
     ]
    },
    {
     "name": "stderr",
     "output_type": "stream",
     "text": [
      " 56%|█████▋    | 9/16 [1:37:27<1:15:45, 649.36s/it]"
     ]
    },
    {
     "name": "stdout",
     "output_type": "stream",
     "text": [
      "processing 10_puppi_57747_C0531+33_0558_12568.dm559.72.calibP.RM.DD.ASCII\n",
      "Data loaded\n",
      "finding auto-correlation...\n",
      "solution nlsq: [  5.91274854 511.00000038 511.          47.07187549 130.58243708\n",
      "   6.10478092]\n",
      "saved figures/burst_10_figure.png\n"
     ]
    },
    {
     "name": "stderr",
     "output_type": "stream",
     "text": [
      " 62%|██████▎   | 10/16 [1:48:13<1:04:50, 648.44s/it]"
     ]
    },
    {
     "name": "stdout",
     "output_type": "stream",
     "text": [
      "processing 11_puppi_57748_C0531+33_0594_2.dm559.72.calibP.RM.DD.ASCII\n",
      "Data loaded\n",
      "finding auto-correlation...\n",
      "solution nlsq: [ 12.00968477 511.00000103 510.99998929  39.8102595  182.57071438\n",
      "   2.99437345]\n",
      "saved figures/burst_11_figure.png\n"
     ]
    },
    {
     "name": "stderr",
     "output_type": "stream",
     "text": [
      " 69%|██████▉   | 11/16 [1:59:08<54:12, 650.54s/it]  "
     ]
    },
    {
     "name": "stdout",
     "output_type": "stream",
     "text": [
      "processing 12_puppi_57748_C0531+33_0594_48.dm559.72.calibP.RM.DD.ASCII\n",
      "Data loaded\n",
      "finding auto-correlation...\n",
      "solution nlsq: [ 83.61716669 511.         511.00000004  28.82274189 137.48644806\n",
      "   6.13365753]\n",
      "saved figures/burst_12_figure.png\n"
     ]
    },
    {
     "name": "stderr",
     "output_type": "stream",
     "text": [
      " 75%|███████▌  | 12/16 [2:10:08<43:32, 653.18s/it]"
     ]
    },
    {
     "name": "stdout",
     "output_type": "stream",
     "text": [
      "processing 13_puppi_57748_C0531+33_0594_49.dm559.72.calibP.RM.DD.ASCII\n",
      "Data loaded\n",
      "finding auto-correlation...\n",
      "solution nlsq: [937.89802933 511.         511.         141.35413994  40.66981173\n",
      "   1.40572708]\n",
      "saved figures/burst_13_figure.png\n"
     ]
    },
    {
     "name": "stderr",
     "output_type": "stream",
     "text": [
      " 81%|████████▏ | 13/16 [2:21:20<32:57, 659.03s/it]"
     ]
    },
    {
     "name": "stdout",
     "output_type": "stream",
     "text": [
      "processing 14_puppi_57748_C0531+33_0594_50.dm559.72.calibP.RM.DD.ASCII\n",
      "Data loaded\n",
      "finding auto-correlation...\n",
      "solution nlsq: [334.27029247 511.         510.99999998  11.69636277 159.61307787\n",
      "   3.09706477]\n",
      "saved figures/burst_14_figure.png\n"
     ]
    },
    {
     "name": "stderr",
     "output_type": "stream",
     "text": [
      " 88%|████████▊ | 14/16 [2:33:00<22:22, 671.31s/it]"
     ]
    },
    {
     "name": "stdout",
     "output_type": "stream",
     "text": [
      "processing 15_puppi_57748_C0531+33_0594_1269.dm559.72.calibP.RM.DD.ASCII\n",
      "Data loaded\n",
      "finding auto-correlation...\n",
      "solution nlsq: [531.94289058 511.         511.          65.07678844  47.78888584\n",
      "  -2.0047047 ]\n",
      "saved figures/burst_15_figure.png\n"
     ]
    },
    {
     "name": "stderr",
     "output_type": "stream",
     "text": [
      " 94%|█████████▍| 15/16 [2:45:09<11:28, 688.53s/it]"
     ]
    },
    {
     "name": "stdout",
     "output_type": "stream",
     "text": [
      "processing 16_puppi_57772_C0531+33_0007_2695.dm559.72.calibP.RM.DD.ASCII\n",
      "Data loaded\n",
      "finding auto-correlation...\n"
     ]
    }
   ],
   "source": [
    "folder = 'data'\n",
    "outfolder = 'figures'\n",
    "for burst, filename, edge in tqdm( zip(range(1, len(bursts['filename'])+1), bursts['filename'], bursts['edge']), total=len(bursts['filename']) ):\n",
    "    print('processing {}'.format(filename))\n",
    "\n",
    "    junk, nchan, nbin, I, Q, U, V = np.loadtxt('{}/{}'.format(folder, filename), delimiter=' ', unpack=True)\n",
    "    n = len(junk)\n",
    "    print(\"Data loaded\")\n",
    "    \n",
    "    binmax = int(nbin[n-1])+1\n",
    "    frequencymax = (int(nchan[n-1])+1)\n",
    "    intensity = np.zeros((frequencymax, binmax))\n",
    "\n",
    "    X = np.zeros(binmax)\n",
    "    Y = np.zeros(frequencymax)\n",
    "\n",
    "    # what are these?\n",
    "    tmin = 500 \n",
    "    tmax = 1500\n",
    "\n",
    "    #### 1. remove noise\n",
    "    intensitynoise1 = np.zeros(tmin-1)\n",
    "    intensitynoise2 = np.zeros(binmax-tmax)\n",
    "    for i in tqdm(range(frequencymax-50,51,-1), desc='noise removal', disable=True):\n",
    "\n",
    "        Y[i-1] = 4.15 + (i-1) * 1.5625 # ?\n",
    "\n",
    "        for j in range(1,tmin) :\n",
    "\n",
    "            intensitynoise1[j-1] = (I[j-1 + binmax*(frequencymax-i)])/(tmin-1)\n",
    "\n",
    "\n",
    "        for j in range(tmax+1,binmax+1) :\n",
    "\n",
    "            intensitynoise2[j-1-tmax] = (I[j-1 + binmax*(frequencymax-i)])/(binmax-tmax)\n",
    "\n",
    "        a = sum(intensitynoise1)\n",
    "        b = sum(intensitynoise2)\n",
    "\n",
    "        for j in range(1,binmax+1) :\n",
    "            X[j-1] = j-1\n",
    "            intensity[i-1,j-1] = I[j-1 + binmax*(frequencymax-i)] - (a+b)/2\n",
    "\n",
    "    #### 2. find autocorrelation \n",
    "    burstwindow = intensity[:,edge:edge+frequencymax]\n",
    "\n",
    "    print(\"finding auto-correlation...\")\n",
    "    corr = signal.correlate2d(burstwindow, burstwindow, mode='full')\n",
    "    \n",
    "    #### 3. Fit Gaussian to autocorrelation\n",
    "    popt, pcov = fitgaussiannlsq(corr)\n",
    "    x = range(0, 1023); y = range(0, 1023)\n",
    "    x, y = np.meshgrid(x, y)\n",
    "    fitmap2 = twoD_Gaussian((x, y), *popt).reshape(1023, 1023)\n",
    "    print('solution nlsq:', popt)\n",
    "    \n",
    "    #### 4. Plot\n",
    "    cmap = \"gray\"\n",
    "    plt.figure(figsize=(17,8))\n",
    "    plt.subplot(121)\n",
    "    plt.title(\"Burst #{}\".format(burst))\n",
    "    plt.imshow(burstwindow, cmap=cmap, interpolation='bicubic',aspect='auto', origin=\"lower\")\n",
    "    plt.colorbar()\n",
    "\n",
    "    plt.subplot(122)\n",
    "    plt.title(\"Corr #{}. Fit: $\\\\theta$ = {:.2f}rad, peak = {:.0f}, $\\sigma_x$ = {:.0f} $\\sigma_y$ = {:.0f}\".format(burst, popt[-1], np.max(corr), popt[3], popt[4]))\n",
    "    plt.imshow(corr, cmap=cmap, interpolation='bicubic',aspect='auto', origin=\"lower\")\n",
    "    plt.colorbar()\n",
    "    plt.clim(0, np.max(corr)/2)\n",
    "    plt.contour(*np.meshgrid(range(0, 1023), range(0, 1023)), fitmap2, [popt[0]/4, popt[0]*0.9], colors='w', alpha=0.5)\n",
    "\n",
    "    plt.tight_layout()\n",
    "    plt.savefig('{}/burst_{}_figure.png'.format(outfolder, burst))\n",
    "    print('saved {}/burst_{}_figure.png'.format(outfolder, burst))"
   ]
  },
  {
   "cell_type": "code",
   "execution_count": null,
   "metadata": {},
   "outputs": [],
   "source": [
    "plt.figure(figsize=(10,10))\n",
    "plt.imshow(corr, cmap=cmap, interpolation='bicubic',aspect='auto', origin=\"lower\")\n",
    "plt.colorbar()\n",
    "plt.clim(0, np.max(corr)/2)"
   ]
  },
  {
   "cell_type": "code",
   "execution_count": null,
   "metadata": {},
   "outputs": [],
   "source": [
    "cmap = \"gray\"\n",
    "x = range(0, 1023); y = range(0, 1023)\n",
    "x, y = np.meshgrid(x, y)\n",
    "# amplitude, xo, yo, sigma_x, sigma_y, theta\n",
    "testmap = twoD_Gaussian((x, y), *[1.8e+03, 5.11e+02, 5.11e+02, 1.74e+02, 4.7e+01, 1.425]).reshape(1023, 1023)\n",
    "popt = [1.8e+03, 5.11e+02, 5.11e+02, 1.74e+02, 4.7e+01, 1.425]\n",
    "\n",
    "plt.figure(figsize=(8,8))\n",
    "plt.title(\"Correlation #{}. Fit: $\\\\theta$ = {:.2f} rad, peak = {:.0f}, $\\sigma_x$ = {} $\\sigma_y$ = {}\".format(1, popt[-1], 1000, 1, 1))\n",
    "plt.imshow(testmap, cmap=cmap, interpolation='bicubic',aspect='auto', origin=\"lower\")\n",
    "plt.colorbar()\n"
   ]
  },
  {
   "cell_type": "code",
   "execution_count": null,
   "metadata": {},
   "outputs": [],
   "source": []
  }
 ],
 "metadata": {
  "kernelspec": {
   "display_name": "Python 3",
   "language": "python",
   "name": "python3"
  },
  "language_info": {
   "codemirror_mode": {
    "name": "ipython",
    "version": 3
   },
   "file_extension": ".py",
   "mimetype": "text/x-python",
   "name": "python",
   "nbconvert_exporter": "python",
   "pygments_lexer": "ipython3",
   "version": "3.7.4"
  },
  "widgets": {
   "application/vnd.jupyter.widget-state+json": {
    "state": {},
    "version_major": 2,
    "version_minor": 0
   }
  }
 },
 "nbformat": 4,
 "nbformat_minor": 4
}
