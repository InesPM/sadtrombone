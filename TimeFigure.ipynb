{
 "cells": [
  {
   "cell_type": "markdown",
   "metadata": {},
   "source": [
    "Code for Figure 1\n",
    "===="
   ]
  },
  {
   "cell_type": "code",
   "execution_count": 1,
   "metadata": {},
   "outputs": [],
   "source": [
    "import matplotlib.pyplot as plt\n",
    "import numpy as np\n",
    "\n",
    "plt.rcParams[\"font.family\"] = \"serif\"\n",
    "fontsize = 22\n",
    "\n",
    "x = np.linspace(0, 20, num=1000)\n",
    "ax = plt.figure(figsize=(14,6))\n",
    "ax = ax.gca()\n",
    "pos1, pos2 = 2, 10\n",
    "right = 190\n",
    "left = 420\n",
    "rstart = 20\n",
    "lend = 660\n",
    "amp = 0.8\n",
    "sig = 0.5\n",
    "overlap = 5\n",
    "frboverlap = 20\n",
    "lsize = fontsize+4\n",
    "lw = 1.5*3\n",
    "alw = lw -2\n",
    "\n",
    "# Trigger\n",
    "plt.plot(x[rstart-overlap:right+overlap], 0.6*amp*np.exp(-(x[rstart-overlap:right+overlap]-pos1)**2/(2*sig**2)), c='m', lw=lw)\n",
    "# FRB\n",
    "tailpos = 10.7\n",
    "tailsig = 1\n",
    "frb = (amp/2)*np.exp(-(x[left-frboverlap:lend+frboverlap]-pos2)**2/(2*sig**2)) + (amp/2)*np.exp(-(x[left-frboverlap:lend+frboverlap]-tailpos)**2/(2*tailsig**2))\n",
    "plt.plot(x[left-frboverlap:lend+frboverlap], frb, c='r', lw=lw)\n",
    "\n",
    "plt.ylabel('Intensity', fontsize=fontsize)\n",
    "plt.xlim(0, 15)\n",
    "plt.ylim(-0.4, 1.1)\n",
    "ax.get_xaxis().set_ticks([])\n",
    "ax.get_yaxis().set_ticks([])\n",
    "\n",
    "## Axes\n",
    "ax.arrow(0.2, 0, 0, 0.95, head_width=0.2, head_length=0.1, overhang=0.2, color='k', lw=alw)\n",
    "ax.arrow(0.2, 0, 14, 0, head_width=0.05, head_length=0.4, overhang=0.2, color='k', lw=alw)\n",
    "\n",
    "## Timeline\n",
    "liney = -0.1\n",
    "tickwidth = 0.1\n",
    "# Main line\n",
    "ax.arrow(0.4, liney, 12.81, 0, color='k', head_width=0, head_length=0, overhang=0, lw=alw)\n",
    "# Ticks\n",
    "ax.arrow(x[rstart], liney-tickwidth/2, 0, tickwidth, color='k', head_width=0, head_length=0, overhang=0, lw=alw)\n",
    "ax.arrow(x[right], liney-tickwidth/2, 0, tickwidth, color='k', head_width=0, head_length=0, overhang=0, lw=alw)\n",
    "ax.arrow(x[left], liney-tickwidth/2, 0, tickwidth, color='k', head_width=0, head_length=0, overhang=0, lw=alw)\n",
    "ax.arrow(x[lend], liney-tickwidth/2, 0, tickwidth, color='k', head_width=0, head_length=0, overhang=0, lw=alw) \n",
    "\n",
    "int_length = 0.2\n",
    "# Delta t' interval\n",
    "ax.arrow(x[rstart]+0.03, liney, x[right]-0.63, 0, lw=alw, head_width=0.05, head_length=int_length, overhang=0.2, color='k')\n",
    "ax.arrow(x[right], liney, -x[right]+0.63, 0, lw=alw, head_width=0.05, head_length=int_length, overhang=0.2, color='k') \n",
    "\n",
    "# Tau D interval\n",
    "ax.arrow(x[right]+0.03, liney, x[left]-x[right]-0.23, 0, lw=alw, head_width=0.05, head_length=int_length, overhang=0.2, color='k')\n",
    "ax.arrow(x[left], liney, -(x[left]-x[right]-0.23), 0, lw=alw, head_width=0.05, head_length=int_length, overhang=0.2, color='k') \n",
    "\n",
    "# Tau W interval\n",
    "ax.arrow(x[left]+0.03, liney, x[lend]-x[left]-0.27, 0, lw=alw, head_width=0.05, head_length=int_length, overhang=0.2, color='k')\n",
    "ax.arrow(x[lend], liney, -(x[lend]-x[left]-0.23), 0, lw=alw, head_width=0.05, head_length=int_length, overhang=0.2, color='k') \n",
    "\n",
    "\n",
    "labely = -0.24\n",
    "stampy = -0.3\n",
    "plt.annotate(\"$t'$\", (14, -0.16), size=lsize)\n",
    "plt.annotate(\"$t_0'$\", (0.2, stampy), size=lsize)\n",
    "plt.annotate(\"$t_1'$\", (3.6, stampy), size=lsize)\n",
    "plt.annotate(\"$t_2'$\", (8.1, stampy), size=lsize)\n",
    "plt.annotate(\"$t_3'$\", (13, stampy), size=lsize)\n",
    "\n",
    "plt.annotate(\"$\\Delta t'$\", (1.8, labely), size=lsize)\n",
    "plt.annotate(\"$\\\\tau_D$\", (5.5, labely), size=lsize)\n",
    "plt.annotate(\"$\\\\tau_w$\", (10.5, labely), size=lsize)\n",
    "namey = 0.84\n",
    "plt.annotate(\"Trigger\", (1, namey-0.3), size=lsize)\n",
    "plt.annotate(\"FRB\", (9.6, namey-0.08), size=lsize)\n",
    "\n",
    "\n",
    "for direction in [\"right\", \"top\", 'bottom', 'left']:\n",
    "    # hides borders\n",
    "    ax.spines[direction].set_visible(False)\n",
    "\n",
    "# plt.savefig('paper_figures/time_sequence.pdf')\n",
    "# plt.savefig('paper_figures/time_sequence.eps')"
   ]
  },
  {
   "cell_type": "code",
   "execution_count": 27,
   "metadata": {},
   "outputs": [
    {
     "name": "stdout",
     "output_type": "stream",
     "text": [
      "{'bottom': <mpl_toolkits.axisartist.axis_artist.AxisArtist object at 0x05DCBE50>, 'top': <mpl_toolkits.axisartist.axis_artist.AxisArtist object at 0x106894F0>, 'left': <mpl_toolkits.axisartist.axis_artist.AxisArtist object at 0x10689BF0>, 'right': <mpl_toolkits.axisartist.axis_artist.AxisArtist object at 0x10689D70>, 'xzero': <mpl_toolkits.axisartist.axis_artist.AxisArtist object at 0x101DEE50>, 'yzero': <mpl_toolkits.axisartist.axis_artist.AxisArtist object at 0x101EF130>}\n"
     ]
    },
    {
     "data": {
      "image/png": "[encoded data removed]",
      "text/plain": [
       "<Figure size 432x288 with 1 Axes>"
      ]
     },
     "metadata": {
      "needs_background": "light"
     },
     "output_type": "display_data"
    }
   ],
   "source": [
    "from mpl_toolkits.axisartist.axislines import SubplotZero\n",
    "import matplotlib.pyplot as plt\n",
    "import numpy as np\n",
    "\n",
    "\n",
    "fig = plt.figure(1)\n",
    "ax = SubplotZero(fig, 111)\n",
    "fig.add_subplot(ax)\n",
    "print(ax.axis)\n",
    "for direction in [\"xzero\", \"yzero\"]:\n",
    "    # adds arrows at the ends of each axis\n",
    "    ax.axis[direction].set_axisline_style(\"->\", size=5)\n",
    "\n",
    "    # adds X and Y-axis from the origin\n",
    "    ax.axis[direction].set_visible(True)\n",
    "\n",
    "for direction in [\"left\", \"right\", \"bottom\", \"top\"]:\n",
    "    # hides borders\n",
    "    ax.axis[direction].set_visible(False)\n",
    "\n",
    "x = np.linspace(-0.5, 1., 100)\n",
    "ax.plot(x, np.sin(x*np.pi))\n",
    "\n",
    "plt.show()\n"
   ]
  }
 ],
 "metadata": {
  "kernelspec": {
   "display_name": "Python 3",
   "language": "python",
   "name": "python3"
  },
  "language_info": {
   "codemirror_mode": {
    "name": "ipython",
    "version": 3
   },
   "file_extension": ".py",
   "mimetype": "text/x-python",
   "name": "python",
   "nbconvert_exporter": "python",
   "pygments_lexer": "ipython3",
   "version": "3.7.4"
  },
  "widgets": {
   "application/vnd.jupyter.widget-state+json": {
    "state": {},
    "version_major": 2,
    "version_minor": 0
   }
  }
 },
 "nbformat": 4,
 "nbformat_minor": 4
}
