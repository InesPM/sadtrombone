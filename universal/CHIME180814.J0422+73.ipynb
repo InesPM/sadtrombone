{
 "cells": [
  {
   "cell_type": "markdown",
   "metadata": {},
   "source": [
    "Processing CHIME FRB180814.J0422+73\n",
    "====="
   ]
  },
  {
   "cell_type": "code",
   "execution_count": 2,
   "metadata": {},
   "outputs": [
    {
     "name": "stderr",
     "output_type": "stream",
     "text": [
      "C:\\Users\\hmsmo\\AppData\\Roaming\\Python\\Python37\\site-packages\\ipykernel_launcher.py:49: DeprecationWarning: elementwise comparison failed; this will raise an error in the future.\n"
     ]
    },
    {
     "ename": "MemoryError",
     "evalue": "Unable to allocate 256. MiB for an array with shape (16384, 4096) and data type float32",
     "output_type": "error",
     "traceback": [
      "\u001b[1;31m---------------------------------------------------------------------------\u001b[0m",
      "\u001b[1;31mMemoryError\u001b[0m                               Traceback (most recent call last)",
      "\u001b[1;32m<ipython-input-2-275a75fef408>\u001b[0m in \u001b[0;36m<module>\u001b[1;34m\u001b[0m\n\u001b[0;32m     50\u001b[0m             \u001b[0mdataStacked\u001b[0m \u001b[1;33m=\u001b[0m \u001b[0mdata\u001b[0m\u001b[1;33m\u001b[0m\u001b[1;33m\u001b[0m\u001b[0m\n\u001b[0;32m     51\u001b[0m         \u001b[1;32melse\u001b[0m\u001b[1;33m:\u001b[0m\u001b[1;33m\u001b[0m\u001b[1;33m\u001b[0m\u001b[0m\n\u001b[1;32m---> 52\u001b[1;33m             \u001b[0mdataStacked\u001b[0m \u001b[1;33m=\u001b[0m \u001b[0mnp\u001b[0m\u001b[1;33m.\u001b[0m\u001b[0mhstack\u001b[0m\u001b[1;33m(\u001b[0m\u001b[1;33m[\u001b[0m\u001b[0mdataStacked\u001b[0m\u001b[1;33m,\u001b[0m \u001b[0mdata\u001b[0m\u001b[1;33m]\u001b[0m\u001b[1;33m)\u001b[0m\u001b[1;33m\u001b[0m\u001b[1;33m\u001b[0m\u001b[0m\n\u001b[0m\u001b[0;32m     53\u001b[0m \u001b[1;33m\u001b[0m\u001b[0m\n\u001b[0;32m     54\u001b[0m     \u001b[0mdownsample\u001b[0m \u001b[1;33m=\u001b[0m \u001b[1;36m256\u001b[0m\u001b[1;33m\u001b[0m\u001b[1;33m\u001b[0m\u001b[0m\n",
      "\u001b[1;32m<__array_function__ internals>\u001b[0m in \u001b[0;36mhstack\u001b[1;34m(*args, **kwargs)\u001b[0m\n",
      "\u001b[1;32m~\\AppData\\Roaming\\Python\\Python37\\site-packages\\numpy\\core\\shape_base.py\u001b[0m in \u001b[0;36mhstack\u001b[1;34m(tup)\u001b[0m\n\u001b[0;32m    343\u001b[0m         \u001b[1;32mreturn\u001b[0m \u001b[0m_nx\u001b[0m\u001b[1;33m.\u001b[0m\u001b[0mconcatenate\u001b[0m\u001b[1;33m(\u001b[0m\u001b[0marrs\u001b[0m\u001b[1;33m,\u001b[0m \u001b[1;36m0\u001b[0m\u001b[1;33m)\u001b[0m\u001b[1;33m\u001b[0m\u001b[1;33m\u001b[0m\u001b[0m\n\u001b[0;32m    344\u001b[0m     \u001b[1;32melse\u001b[0m\u001b[1;33m:\u001b[0m\u001b[1;33m\u001b[0m\u001b[1;33m\u001b[0m\u001b[0m\n\u001b[1;32m--> 345\u001b[1;33m         \u001b[1;32mreturn\u001b[0m \u001b[0m_nx\u001b[0m\u001b[1;33m.\u001b[0m\u001b[0mconcatenate\u001b[0m\u001b[1;33m(\u001b[0m\u001b[0marrs\u001b[0m\u001b[1;33m,\u001b[0m \u001b[1;36m1\u001b[0m\u001b[1;33m)\u001b[0m\u001b[1;33m\u001b[0m\u001b[1;33m\u001b[0m\u001b[0m\n\u001b[0m\u001b[0;32m    346\u001b[0m \u001b[1;33m\u001b[0m\u001b[0m\n\u001b[0;32m    347\u001b[0m \u001b[1;33m\u001b[0m\u001b[0m\n",
      "\u001b[1;32m<__array_function__ internals>\u001b[0m in \u001b[0;36mconcatenate\u001b[1;34m(*args, **kwargs)\u001b[0m\n",
      "\u001b[1;31mMemoryError\u001b[0m: Unable to allocate 256. MiB for an array with shape (16384, 4096) and data type float32"
     ]
    },
    {
     "data": {
      "text/plain": [
       "<Figure size 1440x1728 with 0 Axes>"
      ]
     },
     "metadata": {},
     "output_type": "display_data"
    },
    {
     "data": {
      "text/plain": [
       "<Figure size 720x720 with 0 Axes>"
      ]
     },
     "metadata": {},
     "output_type": "display_data"
    }
   ],
   "source": [
    "import pandas as pd\n",
    "import numpy as np\n",
    "import matplotlib.pyplot as plt\n",
    "from matplotlib import colors as mcolors\n",
    "import os\n",
    "from tqdm import tqdm\n",
    "import skimage.measure\n",
    "\n",
    "folder = 'data/CHIME_FRB180814.J0422+73'\n",
    "# burstdirs = ['burst180814', 'burst180911', 'burst180917', 'burst180919']\n",
    "# burstdirs = ['burst180814', 'burst180911', 'burst180919']\n",
    "burstdirs = ['burst180814']\n",
    "\n",
    "res = {    #(tres, fres)\n",
    "    'burst180814': (0.983, 16384/400),\n",
    "    'burst180911': (0.983, 16384/400),\n",
    "    'burst180917': (1.966, 16384/400),\n",
    "    'burst180919': (0.983, 16384/400),\n",
    "}\n",
    "\n",
    "for burst in burstdirs:\n",
    "    burstfiles = [s for s in os.listdir(folder +'/'+ burst) if '.npy' in s and 'weights' not in s]\n",
    "    weightfiles = [s for s in os.listdir(folder +'/'+ burst) if '.npy' in s and 'weights' in s]\n",
    "\n",
    "    plt.figure(figsize=(20,24))\n",
    "    plt.figure(figsize=(10,10))\n",
    "\n",
    "    #plt.suptitle(burst)\n",
    "    cmap = plt.get_cmap('gray_r')\n",
    "    cmap.set_bad(color = 'w', alpha = 1.)\n",
    "\n",
    "    dataStacked = []\n",
    "    for fname, wfname in zip(burstfiles, weightfiles):\n",
    "        data    = np.load(\"{}/{}/{}\".format(folder, burst, fname))\n",
    "        weights = np.load(\"{}/{}/{}\".format(folder, burst, wfname))\n",
    "\n",
    "        #tl, tr = 425, 575\n",
    "\n",
    "        data    = data[:, :] \n",
    "        weights = weights[:, :]\n",
    "        weights[13312:14592] = 0\n",
    "        weights[11776:12032] = 0\n",
    "        weights[2060:2850]   = 0\n",
    "        weights[768:1024]    = 0\n",
    "\n",
    "        np.putmask(data, ~weights.astype(bool), np.nan)\n",
    "        data = data - 1*data[:, 0:200].mean(axis=1)[:,None]\n",
    "        \n",
    "        if dataStacked == []:\n",
    "            dataStacked = data\n",
    "        else:\n",
    "            dataStacked = np.hstack([dataStacked, data])\n",
    "\n",
    "    downsample = 256\n",
    "    data = skimage.measure.block_reduce(data, block_size=(downsample, 1), func=np.nanmean)\n",
    "\n",
    "    plt.subplot(4, 4, burstfiles.index(fname)+1)\n",
    "    plt.title(burst + \": beam\" + fname.split('.')[0].split('beam')[1])\n",
    "    plt.imshow(data[:,:], origin=\"lower\", aspect=\"auto\", interpolation=\"nearest\", cmap=cmap, extent=(0, res[burst][0], 400, 800))\n",
    "    plt.colorbar()\n",
    "    plt.xlabel(\"Time [s]\")\n",
    "    plt.ylabel(\"Frequency [MHz]\")\n",
    "\n",
    "    plt.tight_layout()\n",
    "    #f burst == 'burst180814': plt.savefig('bursts180814.png')\n",
    "    #if burst == 'burst180814': plt.savefig('bursts180814search.png')"
   ]
  },
  {
   "cell_type": "code",
   "execution_count": null,
   "metadata": {},
   "outputs": [],
   "source": []
  }
 ],
 "metadata": {
  "kernelspec": {
   "display_name": "Python 3",
   "language": "python",
   "name": "python3"
  },
  "language_info": {
   "codemirror_mode": {
    "name": "ipython",
    "version": 3
   },
   "file_extension": ".py",
   "mimetype": "text/x-python",
   "name": "python",
   "nbconvert_exporter": "python",
   "pygments_lexer": "ipython3",
   "version": "3.7.4"
  },
  "widgets": {
   "application/vnd.jupyter.widget-state+json": {
    "state": {},
    "version_major": 2,
    "version_minor": 0
   }
  }
 },
 "nbformat": 4,
 "nbformat_minor": 4
}
